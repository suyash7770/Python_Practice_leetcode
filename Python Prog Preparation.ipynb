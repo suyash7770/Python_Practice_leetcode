{
 "cells": [
  {
   "cell_type": "code",
   "execution_count": 21,
   "id": "c0808517-8ba8-477d-8928-913c03d71787",
   "metadata": {},
   "outputs": [
    {
     "name": "stdout",
     "output_type": "stream",
     "text": [
      "10 3\n",
      "5 2\n",
      "15 1\n"
     ]
    }
   ],
   "source": [
    "# Count the frequency of number in array using map function\n",
    "\n",
    "def Frequency(arr, n):\n",
    "    mp = {}\n",
    "    for i in range(n):\n",
    "        if arr[i] in mp:\n",
    "            mp[arr[i]] += 1\n",
    "        else:\n",
    "            mp[arr[i]] = 1\n",
    "    for x in mp:\n",
    "        print(x, mp[x])\n",
    "\n",
    "\n",
    "if __name__ == '__main__':\n",
    "    arr = [10, 5, 10, 15, 10, 5]\n",
    "    n = len(arr)\n",
    "    Frequency(arr, n)"
   ]
  },
  {
   "cell_type": "code",
   "execution_count": 23,
   "id": "44617b20-4a54-4167-8a2a-3f44bfd1061c",
   "metadata": {},
   "outputs": [
    {
     "name": "stdout",
     "output_type": "stream",
     "text": [
      "[('and', 2), ('practice', 2), ('Learn', 1), ('learn', 1), ('to', 1)]\n"
     ]
    }
   ],
   "source": [
    "# Count the frequency of word in string\n",
    "\n",
    "from collections import Counter\n",
    "line_text = \"Learn and practice and learn to practice\"\n",
    "freq = Counter(line_text.split()).most_common()\n",
    "print(freq)"
   ]
  },
  {
   "cell_type": "code",
   "execution_count": 63,
   "id": "f60014bd-e090-401f-9835-44b665d8dd9a",
   "metadata": {},
   "outputs": [
    {
     "name": "stdin",
     "output_type": "stream",
     "text": [
      "Enter a number:  11\n"
     ]
    },
    {
     "name": "stdout",
     "output_type": "stream",
     "text": [
      "Number is prime\n"
     ]
    }
   ],
   "source": [
    "#Prime Number\n",
    "\n",
    "def prime():\n",
    "    n = int(input(\"Enter a number: \"))\n",
    "    \n",
    "    if n <= 1:\n",
    "        print(\"Number is not prime\")\n",
    "        return\n",
    "    \n",
    "    for i in range(2, int(n//2) + 1):\n",
    "        if n % i == 0:\n",
    "            print(\"Number is not prime\")\n",
    "            return\n",
    "    else:\n",
    "        print(\"Number is prime\")\n",
    "            \n",
    "    \n",
    "\n",
    "prime()\n"
   ]
  },
  {
   "cell_type": "code",
   "execution_count": 73,
   "id": "3bd4cf31-8535-46c4-bdce-a6289c946f85",
   "metadata": {},
   "outputs": [
    {
     "name": "stdin",
     "output_type": "stream",
     "text": [
      "enter the number 123\n"
     ]
    },
    {
     "name": "stdout",
     "output_type": "stream",
     "text": [
      "Number is not palindrome\n"
     ]
    }
   ],
   "source": [
    "#Palindrome Number\n",
    "\n",
    "def Palindrome(n):\n",
    "    n=int(input(\"enter the number\"))\n",
    "    temp=n\n",
    "    rev=0\n",
    "    while n>0:\n",
    "        digit=n%10\n",
    "        rev=rev*10+digit\n",
    "        n=n//10\n",
    "    if temp==rev:\n",
    "        print(\"Number is palindrome\")\n",
    "    else:\n",
    "        print(\"Number is not palindrome\")\n",
    "\n",
    "Palindrome(n)\n",
    "          "
   ]
  },
  {
   "cell_type": "code",
   "execution_count": 79,
   "id": "6c009c2f-fb1a-4738-b84c-88da26e98bd9",
   "metadata": {},
   "outputs": [
    {
     "name": "stdin",
     "output_type": "stream",
     "text": [
      "Enter the str abccba\n"
     ]
    },
    {
     "name": "stdout",
     "output_type": "stream",
     "text": [
      "Palindrome str\n"
     ]
    }
   ],
   "source": [
    "#palindrome str\n",
    "\n",
    "str=input(\"Enter the str\")\n",
    "str1=str[::-1]\n",
    "if str==str1:\n",
    "    print(\"Palindrome str\")\n",
    "else:\n",
    "    print(\"Not palindrome str\")"
   ]
  },
  {
   "cell_type": "code",
   "execution_count": 83,
   "id": "c6891073-f23f-4e13-86a2-f864e8ee7170",
   "metadata": {},
   "outputs": [
    {
     "name": "stdout",
     "output_type": "stream",
     "text": [
      "day great the was That\n"
     ]
    }
   ],
   "source": [
    "#Reverse the words in str\n",
    "\n",
    "str=\"That was the great day\"\n",
    "words=str.split(' ')\n",
    "rev_str=' '.join(reversed(words))\n",
    "print(rev_str)"
   ]
  },
  {
   "cell_type": "code",
   "execution_count": 99,
   "id": "06154cd8-6932-419c-ad56-f350cd3e177a",
   "metadata": {},
   "outputs": [
    {
     "name": "stdin",
     "output_type": "stream",
     "text": [
      "Enter the number 9\n"
     ]
    },
    {
     "name": "stdout",
     "output_type": "stream",
     "text": [
      "Not armstrong number\n"
     ]
    }
   ],
   "source": [
    "#Armstrong Number\n",
    "\n",
    "def armstrong(n):\n",
    "    n=int(input(\"Enter the number\"))\n",
    "    sum=0\n",
    "    temp=n\n",
    "    while n>0:\n",
    "        digit=n%10\n",
    "        sum=sum+digit**3\n",
    "        n=n//10\n",
    "    if temp==sum:\n",
    "        print(\"Armstrong number\")\n",
    "    else:\n",
    "        print(\"Not armstrong number\")\n",
    "armstrong(n)\n",
    "\n",
    "        "
   ]
  },
  {
   "cell_type": "code",
   "execution_count": 111,
   "id": "ac2b9d7d-1564-4c32-ba70-8b604139119e",
   "metadata": {},
   "outputs": [
    {
     "name": "stdin",
     "output_type": "stream",
     "text": [
      "enter the number 12\n"
     ]
    },
    {
     "name": "stdout",
     "output_type": "stream",
     "text": [
      "1 2 3 5 8 13 21 34 55 89 144 233 34\n"
     ]
    }
   ],
   "source": [
    "#Fibonacci Series\n",
    "\n",
    "def fibonacci(n):\n",
    "    n=int(input(\"enter the number\"))\n",
    "    num1=0\n",
    "    num2=1\n",
    "    next_num=num2\n",
    "    count=1\n",
    "    while count<=n:\n",
    "        print(next_num,end=\" \")\n",
    "        count=count+1\n",
    "        num1,num2=num2,next_num\n",
    "        next_num=num1+num2\n",
    "fibonacci(n)"
   ]
  },
  {
   "cell_type": "code",
   "execution_count": 113,
   "id": "a8c490b4-009a-46b0-a3ad-d56fc210c7a1",
   "metadata": {},
   "outputs": [
    {
     "name": "stdout",
     "output_type": "stream",
     "text": [
      "34\n"
     ]
    }
   ],
   "source": [
    "# Function for nth fibonacci number\n",
    "\n",
    "def Fibonacci(n):\n",
    "    a = 0\n",
    "    b = 1\n",
    "    if n < 0:\n",
    "        print(\"Incorrect input\")\n",
    "    elif n == 0:\n",
    "        return 0\n",
    "    elif n == 1:\n",
    "        return b\n",
    "    else:\n",
    "        for i in range(1, n):\n",
    "            c = a + b\n",
    "            a = b\n",
    "            b = c\n",
    "        return b\n",
    "print(Fibonacci(9))"
   ]
  },
  {
   "cell_type": "code",
   "execution_count": 127,
   "id": "7eb08768-a2b3-459b-be58-c231f8ea84a4",
   "metadata": {},
   "outputs": [
    {
     "name": "stdin",
     "output_type": "stream",
     "text": [
      "Enter the number 3\n"
     ]
    },
    {
     "name": "stdout",
     "output_type": "stream",
     "text": [
      "6\n"
     ]
    }
   ],
   "source": [
    "#Factorial Number\n",
    "\n",
    "def factorial(n):\n",
    "    n=int(input(\"Enter the number\"))\n",
    "    factorial=1\n",
    "    if n<0:\n",
    "        print(\"Enter positive number\")\n",
    "    elif n==0:\n",
    "        print(\"1\")\n",
    "    else:\n",
    "        for i in range(1,n+1):\n",
    "            factorial=factorial*i\n",
    "        \n",
    "    return factorial\n",
    "            \n",
    "print(factorial(n))\n",
    "            \n",
    "        "
   ]
  },
  {
   "cell_type": "code",
   "execution_count": 131,
   "id": "2d86ba6f-70db-492b-adee-ed6efa421f04",
   "metadata": {},
   "outputs": [
    {
     "name": "stdout",
     "output_type": "stream",
     "text": [
      "[10, 12, 34, 45, 67, 99, 11, 77]\n"
     ]
    }
   ],
   "source": [
    "# Remove Duplicates\n",
    "def removedupli(list):\n",
    "    list=[10,12,34,34,45,45,67,99,12,11,77,34,12]\n",
    "    newlist=[]\n",
    "    for no in list:\n",
    "        if no not in newlist:\n",
    "            newlist.append(no)\n",
    "    print(newlist)\n",
    "removedupli(list)"
   ]
  },
  {
   "cell_type": "code",
   "execution_count": 133,
   "id": "2975580a-8f7b-493e-a76b-99cc15b7d125",
   "metadata": {},
   "outputs": [
    {
     "name": "stdout",
     "output_type": "stream",
     "text": [
      "{34, 67, 99, 10, 11, 12, 45, 77}\n"
     ]
    }
   ],
   "source": [
    "def removedupli(list):\n",
    "    list=[10,12,34,34,45,45,67,99,12,11,77,34,12]\n",
    "    list1=set(list)\n",
    "    print(list1)\n",
    "removedupli(list)"
   ]
  },
  {
   "cell_type": "code",
   "execution_count": 135,
   "id": "2064cadd-dbd4-4812-85c7-fe1e8eb30b98",
   "metadata": {},
   "outputs": [
    {
     "name": "stdout",
     "output_type": "stream",
     "text": [
      "[12, 34, 45]\n"
     ]
    }
   ],
   "source": [
    "#Show duplicates\n",
    "\n",
    "def removedupli(list):\n",
    "    list=[10,12,34,34,45,45,67,99,12,11,77,34,12]\n",
    "    newlist=[]\n",
    "    for no in list:\n",
    "        if list.count(no)>=2 and no not in newlist:\n",
    "            newlist.append(no)\n",
    "    print(newlist)\n",
    "removedupli(list)"
   ]
  },
  {
   "cell_type": "code",
   "execution_count": null,
   "id": "e910590c-5a28-447d-a692-868b1641e01a",
   "metadata": {},
   "outputs": [],
   "source": []
  }
 ],
 "metadata": {
  "kernelspec": {
   "display_name": "Python 3 (ipykernel)",
   "language": "python",
   "name": "python3"
  },
  "language_info": {
   "codemirror_mode": {
    "name": "ipython",
    "version": 3
   },
   "file_extension": ".py",
   "mimetype": "text/x-python",
   "name": "python",
   "nbconvert_exporter": "python",
   "pygments_lexer": "ipython3",
   "version": "3.12.4"
  }
 },
 "nbformat": 4,
 "nbformat_minor": 5
}
