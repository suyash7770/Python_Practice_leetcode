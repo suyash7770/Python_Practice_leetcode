{
 "cells": [
  {
   "cell_type": "code",
   "execution_count": 19,
   "id": "640b43b9-c056-42bf-9735-c2fca56e3d8e",
   "metadata": {},
   "outputs": [
    {
     "ename": "SyntaxError",
     "evalue": "invalid syntax. Maybe you meant '==' or ':=' instead of '='? (852222571.py, line 16)",
     "output_type": "error",
     "traceback": [
      "\u001b[1;36m  Cell \u001b[1;32mIn[19], line 16\u001b[1;36m\u001b[0m\n\u001b[1;33m    nums = [2,7,11,15], target = 9\u001b[0m\n\u001b[1;37m    ^\u001b[0m\n\u001b[1;31mSyntaxError\u001b[0m\u001b[1;31m:\u001b[0m invalid syntax. Maybe you meant '==' or ':=' instead of '='?\n"
     ]
    }
   ],
   "source": [
    "'''\n",
    "1.Two Sum\n",
    "Given an array of integers nums and an integer target, return indices of the two numbers such that they add up to target.\n",
    "You may assume that each input would have exactly one solution, and you may not use the same element twice.\n",
    "You can return the answer in any order.\n",
    "Example 1:\n",
    "Input: nums = [2,7,11,15], target = 9\n",
    "Output: [0,1]\n",
    "'''\n",
    "def twoSum(nums):\n",
    "    for i in range (len(nums)):\n",
    "            for j in range(i+1,len(nums)):\n",
    "                if(i!=j and nums[i]+nums[j]==target):\n",
    "                    return [i,j]\n",
    "    return []        "
   ]
  },
  {
   "cell_type": "code",
   "execution_count": null,
   "id": "a4487e00-c0bd-4c53-8f50-a8cdf5dfae76",
   "metadata": {},
   "outputs": [],
   "source": []
  },
  {
   "cell_type": "code",
   "execution_count": null,
   "id": "018421fa-1fe6-4d75-a458-c9ed671b7da2",
   "metadata": {},
   "outputs": [],
   "source": []
  }
 ],
 "metadata": {
  "kernelspec": {
   "display_name": "Python 3 (ipykernel)",
   "language": "python",
   "name": "python3"
  },
  "language_info": {
   "codemirror_mode": {
    "name": "ipython",
    "version": 3
   },
   "file_extension": ".py",
   "mimetype": "text/x-python",
   "name": "python",
   "nbconvert_exporter": "python",
   "pygments_lexer": "ipython3",
   "version": "3.12.4"
  }
 },
 "nbformat": 4,
 "nbformat_minor": 5
}
